{
 "cells": [
  {
   "cell_type": "code",
   "execution_count": 2,
   "id": "ab0d53a8-95c5-46d1-b2f2-e820ecf5fea4",
   "metadata": {},
   "outputs": [],
   "source": [
    "import pandas as pd"
   ]
  },
  {
   "cell_type": "code",
   "execution_count": 3,
   "id": "d8341db5-0455-4c09-8455-1d7183b1ba4c",
   "metadata": {},
   "outputs": [
    {
     "name": "stdout",
     "output_type": "stream",
     "text": [
      "Requirement already satisfied: rdflib in /opt/anaconda3/lib/python3.11/site-packages (7.1.4)\n",
      "Requirement already satisfied: pyparsing<4,>=2.1.0 in /opt/anaconda3/lib/python3.11/site-packages (from rdflib) (3.0.9)\n",
      "Note: you may need to restart the kernel to use updated packages.\n"
     ]
    }
   ],
   "source": [
    "pip install rdflib"
   ]
  },
  {
   "cell_type": "code",
   "execution_count": 3,
   "id": "1121e71e-c526-401e-8b3c-60886754d5f7",
   "metadata": {},
   "outputs": [
    {
     "name": "stdout",
     "output_type": "stream",
     "text": [
      "✅ File saved as sameAs-title.ttl\n"
     ]
    }
   ],
   "source": [
    "from rdflib import Graph, URIRef\n",
    "from rdflib.namespace import OWL\n",
    "from difflib import SequenceMatcher\n",
    "\n",
    "def similarity(a, b):\n",
    "    return SequenceMatcher(None, a.lower(), b.lower()).ratio()\n",
    "\n",
    "df = pd.read_csv(\"Query-M2V2.csv\")\n",
    "\n",
    "\n",
    "ieee_title_pred = \"http://www.ieeeLOD.org/2024/01/scientific/data#title\"\n",
    "dblp_title_pred = \"https://dblp.org/rdf/schema#title\"\n",
    "\n",
    "ieee_titles = df[df['p'] == ieee_title_pred][['s', 'o']].rename(columns={'s': 'ieee_uri', 'o': 'ieee_title'})\n",
    "dblp_titles = df[df['p'] == dblp_title_pred][['s', 'o']].rename(columns={'s': 'dblp_uri', 'o': 'dblp_title'})\n",
    "\n",
    "g = Graph()\n",
    "g.bind(\"owl\", OWL)\n",
    "\n",
    "for i, row_ieee in ieee_titles.iterrows():\n",
    "    for j, row_dblp in dblp_titles.iterrows():\n",
    "        sim = similarity(str(row_ieee['ieee_title']), str(row_dblp['dblp_title']))\n",
    "        if sim >= 0.92:\n",
    "            g.add((URIRef(row_dblp['dblp_uri']), OWL.sameAs, URIRef(row_ieee['ieee_uri'])))\n",
    "\n",
    "g.serialize(destination=\"sameAs-title.ttl\", format=\"turtle\")\n",
    "print(\"✅ File saved as sameAs-title.ttl\")"
   ]
  },
  {
   "cell_type": "code",
   "execution_count": null,
   "id": "d09a7a19-9a12-47ae-9258-b398699d0da0",
   "metadata": {},
   "outputs": [],
   "source": [
    "import pandas as pd\n",
    "from difflib import SequenceMatcher\n",
    "\n",
    "\n",
    "df = pd.read_csv(\"Query-M2V2.csv\")\n",
    "\n",
    "\n",
    "hasName_predicate = \"https://w3id.org/SWLD-course-UT/2025/data#hasName\"\n",
    "ieee_marker = \"ieeeLOD\"\n",
    "dblp_marker = \"dblp\"\n",
    "\n",
    "# Filter IEEE and DBLP authors\n",
    "ieee_authors = df[(df['s'].str.contains(ieee_marker)) & (df['p'] == hasName_predicate)][['s', 'o']].rename(columns={'s': 'ieee_uri', 'o': 'ieee_author'})\n",
    "dblp_authors = df[(df['s'].str.contains(dblp_marker)) & (df['p'] == hasName_predicate)][['s', 'o']].rename(columns={'s': 'dblp_uri', 'o': 'dblp_author'})\n",
    "\n",
    "\n",
    "ieee_authors['key'] = 1\n",
    "dblp_authors['key'] = 1\n",
    "all_pairs = pd.merge(ieee_authors, dblp_authors, on='key').drop('key', axis=1)\n",
    "\n",
    "\n",
    "def similarity(row):\n",
    "    return SequenceMatcher(None, row['ieee_author'].lower(), row['dblp_author'].lower()).ratio()\n",
    "\n",
    "\n",
    "all_pairs['Similarity'] = all_pairs.apply(similarity, axis=1)\n",
    "top_matches = all_pairs.sort_values(by='Similarity', ascending=False).head(100)\n",
    "print(top_matches[['ieee_uri', 'dblp_uri', 'ieee_author', 'dblp_author', 'Similarity']])\n"
   ]
  },
  {
   "cell_type": "code",
   "execution_count": null,
   "id": "84119c8b-c11f-4e01-b9f9-e513370b3fc3",
   "metadata": {},
   "outputs": [],
   "source": []
  },
  {
   "cell_type": "code",
   "execution_count": null,
   "id": "f942168d-1f6c-4aaa-b02b-8024daf63f0f",
   "metadata": {},
   "outputs": [],
   "source": []
  }
 ],
 "metadata": {
  "kernelspec": {
   "display_name": "Python (anaconda3)",
   "language": "python",
   "name": "anaconda3"
  },
  "language_info": {
   "codemirror_mode": {
    "name": "ipython",
    "version": 3
   },
   "file_extension": ".py",
   "mimetype": "text/x-python",
   "name": "python",
   "nbconvert_exporter": "python",
   "pygments_lexer": "ipython3",
   "version": "3.11.7"
  }
 },
 "nbformat": 4,
 "nbformat_minor": 5
}
